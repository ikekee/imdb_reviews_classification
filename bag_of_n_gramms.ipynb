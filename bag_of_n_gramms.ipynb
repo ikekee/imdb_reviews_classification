{
 "cells": [
  {
   "cell_type": "code",
   "execution_count": 1,
   "metadata": {
    "collapsed": true
   },
   "outputs": [],
   "source": [
    "import numpy as np\n",
    "import pandas as pd\n",
    "import re\n",
    "\n",
    "import nltk\n",
    "from nltk.corpus import stopwords\n",
    "from nltk.stem import WordNetLemmatizer\n",
    "from nltk.tokenize import word_tokenize\n",
    "\n",
    "from sklearn.feature_extraction.text import CountVectorizer\n",
    "from sklearn.model_selection import train_test_split\n",
    "\n",
    "import matplotlib.pyplot as plt"
   ]
  },
  {
   "cell_type": "code",
   "execution_count": 2,
   "outputs": [
    {
     "data": {
      "text/plain": "                                                 review  sentiment\n0     One of the other reviewers has mentioned that ...          1\n1     A wonderful little production. <br /><br />The...          1\n2     I thought this was a wonderful way to spend ti...          1\n3     Basically there's a family where a little boy ...          0\n4     Petter Mattei's \"Love in the Time of Money\" is...          1\n...                                                 ...        ...\n9995  Fun, entertaining movie about WWII German spy ...          1\n9996  Give me a break. How can anyone say that this ...          0\n9997  This movie is a bad movie. But after watching ...          0\n9998  This is a movie that was probably made to ente...          0\n9999  Smashing film about film-making. Shows the int...          1\n\n[10000 rows x 2 columns]",
      "text/html": "<div>\n<style scoped>\n    .dataframe tbody tr th:only-of-type {\n        vertical-align: middle;\n    }\n\n    .dataframe tbody tr th {\n        vertical-align: top;\n    }\n\n    .dataframe thead th {\n        text-align: right;\n    }\n</style>\n<table border=\"1\" class=\"dataframe\">\n  <thead>\n    <tr style=\"text-align: right;\">\n      <th></th>\n      <th>review</th>\n      <th>sentiment</th>\n    </tr>\n  </thead>\n  <tbody>\n    <tr>\n      <th>0</th>\n      <td>One of the other reviewers has mentioned that ...</td>\n      <td>1</td>\n    </tr>\n    <tr>\n      <th>1</th>\n      <td>A wonderful little production. &lt;br /&gt;&lt;br /&gt;The...</td>\n      <td>1</td>\n    </tr>\n    <tr>\n      <th>2</th>\n      <td>I thought this was a wonderful way to spend ti...</td>\n      <td>1</td>\n    </tr>\n    <tr>\n      <th>3</th>\n      <td>Basically there's a family where a little boy ...</td>\n      <td>0</td>\n    </tr>\n    <tr>\n      <th>4</th>\n      <td>Petter Mattei's \"Love in the Time of Money\" is...</td>\n      <td>1</td>\n    </tr>\n    <tr>\n      <th>...</th>\n      <td>...</td>\n      <td>...</td>\n    </tr>\n    <tr>\n      <th>9995</th>\n      <td>Fun, entertaining movie about WWII German spy ...</td>\n      <td>1</td>\n    </tr>\n    <tr>\n      <th>9996</th>\n      <td>Give me a break. How can anyone say that this ...</td>\n      <td>0</td>\n    </tr>\n    <tr>\n      <th>9997</th>\n      <td>This movie is a bad movie. But after watching ...</td>\n      <td>0</td>\n    </tr>\n    <tr>\n      <th>9998</th>\n      <td>This is a movie that was probably made to ente...</td>\n      <td>0</td>\n    </tr>\n    <tr>\n      <th>9999</th>\n      <td>Smashing film about film-making. Shows the int...</td>\n      <td>1</td>\n    </tr>\n  </tbody>\n</table>\n<p>10000 rows × 2 columns</p>\n</div>"
     },
     "execution_count": 2,
     "metadata": {},
     "output_type": "execute_result"
    }
   ],
   "source": [
    "dataset = pd.read_csv(\"IMDB_Dataset.csv\")[:10000]\n",
    "dataset['sentiment'] = dataset['sentiment'].replace(['positive','negative'],[1, 0])\n",
    "dataset"
   ],
   "metadata": {
    "collapsed": false
   }
  },
  {
   "cell_type": "code",
   "execution_count": 3,
   "outputs": [
    {
     "data": {
      "text/plain": "review       0\nsentiment    0\ndtype: int64"
     },
     "execution_count": 3,
     "metadata": {},
     "output_type": "execute_result"
    }
   ],
   "source": [
    "dataset.isnull().sum()"
   ],
   "metadata": {
    "collapsed": false
   }
  },
  {
   "cell_type": "code",
   "execution_count": 4,
   "outputs": [
    {
     "data": {
      "text/plain": "([<matplotlib.axis.XTick at 0x2599cccc430>,\n  <matplotlib.axis.XTick at 0x2599cccc400>],\n [Text(0, 0, ''), Text(0, 0, '')])"
     },
     "execution_count": 4,
     "metadata": {},
     "output_type": "execute_result"
    },
    {
     "data": {
      "text/plain": "<Figure size 1080x432 with 1 Axes>",
      "image/png": "[encoded data removed]"
     },
     "metadata": {
      "needs_background": "light"
     },
     "output_type": "display_data"
    }
   ],
   "source": [
    "plt.figure(figsize=(15, 6))\n",
    "plt.hist(dataset['sentiment'], bins=2, edgecolor='black', linewidth=1.2)\n",
    "plt.xticks((0, 1))"
   ],
   "metadata": {
    "collapsed": false
   }
  },
  {
   "cell_type": "code",
   "execution_count": 5,
   "outputs": [],
   "source": [
    "def preprocess(text_data: pd.Series) -> CountVectorizer:\n",
    "    corpus = []\n",
    "    text_data = text_data.apply(func=clean_review)\n",
    "    print(text_data)\n",
    "    count_vectorizer = CountVectorizer(ngram_range=(2, 2))\n",
    "    #features = count_vectorizer.fit_transform(text_data).toarray()\n",
    "    count_vectorizer = count_vectorizer.fit(text_data)\n",
    "    return count_vectorizer"
   ],
   "metadata": {
    "collapsed": false
   }
  },
  {
   "cell_type": "code",
   "execution_count": 6,
   "outputs": [],
   "source": [
    "def clean_review(text: str):\n",
    "    \"\"\"\n",
    "    Receives a raw review and clean it using the following steps:\n",
    "    1. Remove all non-words\n",
    "    2. Transform the review in lower case\n",
    "    3. Remove all stop words\n",
    "    4. Perform stemming\n",
    "\n",
    "    Args:\n",
    "        text: the review that iwill be cleaned\n",
    "    Returns:\n",
    "        a clean review using the mentioned steps above.\n",
    "    \"\"\"\n",
    "    text = re.sub(r\"([.]{1,4})|(<br /><br />)|[^A-Za-z ]\", \" \", text)\n",
    "    text = re.sub(r\"\\s+\", \" \", text)\n",
    "    text = text.lower()\n",
    "    text = word_tokenize(text)\n",
    "    lemmatizer = WordNetLemmatizer()\n",
    "    text = [lemmatizer.lemmatize(word) for word in text if word not in set(stopwords.words(\"english\"))]\n",
    "    text = \" \".join(text)\n",
    "    return text"
   ],
   "metadata": {
    "collapsed": false
   }
  },
  {
   "cell_type": "code",
   "execution_count": 7,
   "outputs": [
    {
     "name": "stdout",
     "output_type": "stream",
     "text": [
      "0       one reviewer mentioned watching oz episode hoo...\n",
      "1       wonderful little production filming technique ...\n",
      "2       thought wonderful way spend time hot summer we...\n",
      "3       basically family little boy jake think zombie ...\n",
      "4       petter mattei love time money visually stunnin...\n",
      "                              ...                        \n",
      "9995    fun entertaining movie wwii german spy julie a...\n",
      "9996    give break anyone say good hockey movie know m...\n",
      "9997    movie bad movie watching endless series bad ho...\n",
      "9998    movie probably made entertain middle school ea...\n",
      "9999    smashing film film making show intense strange...\n",
      "Name: review, Length: 10000, dtype: object\n"
     ]
    }
   ],
   "source": [
    "count_vectorizer = preprocess(text_data=dataset.review)\n",
    "X_train, X_test, y_train, y_test = train_test_split(dataset.review,\n",
    "                                                    dataset.sentiment,\n",
    "                                                    test_size=0.2,\n",
    "                                                    random_state=42)"
   ],
   "metadata": {
    "collapsed": false
   }
  },
  {
   "cell_type": "code",
   "execution_count": 8,
   "outputs": [
    {
     "data": {
      "text/plain": "769321"
     },
     "execution_count": 8,
     "metadata": {},
     "output_type": "execute_result"
    }
   ],
   "source": [
    "len(count_vectorizer.vocabulary_)"
   ],
   "metadata": {
    "collapsed": false
   }
  },
  {
   "cell_type": "code",
   "execution_count": 9,
   "outputs": [],
   "source": [
    "from sklearn.ensemble import RandomForestClassifier"
   ],
   "metadata": {
    "collapsed": false
   }
  },
  {
   "cell_type": "code",
   "execution_count": 10,
   "outputs": [],
   "source": [
    "def generate_batch(x, y, batch_size):\n",
    "    \"\"\"  Yields batch of specified size \"\"\"\n",
    "    for i in range(0, len(x), batch_size):\n",
    "        yield x[i : i + batch_size], y[i : i + batch_size]"
   ],
   "metadata": {
    "collapsed": false
   }
  },
  {
   "cell_type": "code",
   "execution_count": 23,
   "outputs": [
    {
     "name": "stdout",
     "output_type": "stream",
     "text": [
      "1.0\n",
      "0.775390625\n",
      "0.9423828125\n",
      "0.92578125\n",
      "0.8544921875\n",
      "0.8125\n",
      "0.744140625\n",
      "0.7223557692307693\n",
      "[0.51953125]\n",
      "[0.51953125, 0.63671875]\n",
      "[0.51953125, 0.63671875, 0.58984375]\n",
      "[0.51953125, 0.63671875, 0.58984375, 0.640625]\n",
      "[0.51953125, 0.63671875, 0.58984375, 0.640625, 0.60546875]\n",
      "[0.51953125, 0.63671875, 0.58984375, 0.640625, 0.60546875, 0.64453125]\n",
      "[0.51953125, 0.63671875, 0.58984375, 0.640625, 0.60546875, 0.64453125, 0.59765625]\n",
      "[0.51953125, 0.63671875, 0.58984375, 0.640625, 0.60546875, 0.64453125, 0.59765625, 0.5721153846153846]\n"
     ]
    },
    {
     "data": {
      "text/plain": "0.6008112980769231"
     },
     "execution_count": 23,
     "metadata": {},
     "output_type": "execute_result"
    }
   ],
   "source": [
    "random_forest = RandomForestClassifier(warm_start=True,\n",
    "                                       n_estimators=100,\n",
    "                                       criterion='entropy',\n",
    "                                       random_state=42,\n",
    "                                       )\n",
    "\n",
    "gen = generate_batch(X_train, y_train, batch_size=1024)\n",
    "for x, y in gen:\n",
    "    transformed_array = count_vectorizer.transform(x).toarray()\n",
    "    random_forest.fit(X=transformed_array,\n",
    "                      y=y)\n",
    "    score = random_forest.score(X=transformed_array,\n",
    "                                y=y)\n",
    "    random_forest.n_estimators += 50\n",
    "    print(score)\n",
    "\n",
    "gen = generate_batch(X_test, y_test, batch_size=256)\n",
    "score = []\n",
    "for x, y in gen:\n",
    "    score.append(random_forest.score(X=count_vectorizer.transform(x).toarray(),\n",
    "                                     y=y))\n",
    "    print(score)\n",
    "np.mean(score)"
   ],
   "metadata": {
    "collapsed": false
   }
  },
  {
   "cell_type": "code",
   "execution_count": 12,
   "outputs": [
    {
     "data": {
      "text/plain": "0.6636868990384616"
     },
     "execution_count": 12,
     "metadata": {},
     "output_type": "execute_result"
    }
   ],
   "source": [
    "gen = generate_batch(X_test, y_test, batch_size=256)\n",
    "score = []\n",
    "for x, y in gen:\n",
    "    score.append(random_forest.score(X=count_vectorizer.transform(x).toarray(),\n",
    "                                     y=y))\n",
    "np.mean(score)"
   ],
   "metadata": {
    "collapsed": false
   }
  },
  {
   "cell_type": "code",
   "execution_count": null,
   "outputs": [],
   "source": [],
   "metadata": {
    "collapsed": false
   }
  }
 ],
 "metadata": {
  "kernelspec": {
   "display_name": "Python 3",
   "language": "python",
   "name": "python3"
  },
  "language_info": {
   "codemirror_mode": {
    "name": "ipython",
    "version": 2
   },
   "file_extension": ".py",
   "mimetype": "text/x-python",
   "name": "python",
   "nbconvert_exporter": "python",
   "pygments_lexer": "ipython2",
   "version": "2.7.6"
  }
 },
 "nbformat": 4,
 "nbformat_minor": 0
}
